{
 "cells": [
  {
   "cell_type": "code",
   "execution_count": 1,
   "id": "0934abfc-5c46-4f4b-a34d-cd403f21c792",
   "metadata": {},
   "outputs": [],
   "source": [
    "import json\n",
    "import requests\n",
    "import pandas as pd\n",
    "import matplotlib.pyplot as plt\n",
    "import numpy as np\n",
    "import seaborn as sns\n",
    "import ruptures as rpt"
   ]
  },
  {
   "cell_type": "code",
   "execution_count": 2,
   "id": "0008bee6-e5b4-44ba-945f-af133b3474f0",
   "metadata": {},
   "outputs": [],
   "source": [
    "# Set display options to show more rows and columns\n",
    "pd.set_option('display.max_rows', None)  # To show all rows\n",
    "pd.set_option('display.max_columns', None)  # To show all columns\n",
    "pd.set_option('display.width', None)  # To adjust the display width"
   ]
  },
  {
   "cell_type": "code",
   "execution_count": null,
   "id": "3eda443c",
   "metadata": {},
   "outputs": [],
   "source": [
    "def getValues1(tagList):\n",
    "    url = \"https://exactspace.co/kairosapi/api/v1/datapoints/query\"\n",
    "    d = {\n",
    "        \"metrics\": [\n",
    "            {\n",
    "                \"tags\": {},\n",
    "                \"name\": \"\",\n",
    "                \"aggregators\": [\n",
    "                    {\n",
    "                        \"name\": \"avg\",\n",
    "                        \"sampling\": {\n",
    "                            \"value\": \"1\",\n",
    "                            \"unit\": \"minutes\"\n",
    "                        }\n",
    "                    }\n",
    "                ]\n",
    "            }\n",
    "        ],\n",
    "        \"plugins\": [],\n",
    "        \"cache_time\": 0,\n",
    "        \"start_absolute\": 1682879400000, # may 1, 2023\n",
    "        \"end_absolute\": 1688063400000    # June 30, 2023\n",
    "    }\n",
    "    finalDF = pd.DataFrame()\n",
    "    for tag in tagList:\n",
    "        d['metrics'][0]['name'] = tag\n",
    "        res = requests.post(url=url, json=d)\n",
    "        values = json.loads(res.content)\n",
    "        df = pd.DataFrame(values[\"queries\"][0][\"results\"][0]['values'], columns=['time', values[\"queries\"][0][\"results\"][0]['name']])\n",
    "        finalDF = pd.concat([finalDF, df], axis=1)\n",
    "\n",
    "    finalDF = finalDF.loc[:, ~finalDF.columns.duplicated()]\n",
    "    finalDF.dropna(subset=['time'], inplace=True)\n",
    "    finalDF['time'] = pd.to_datetime(finalDF['time'], unit='ms').dt.strftime('%d-%m-%y %H:%M')\n",
    "\n",
    "    return finalDF"
   ]
  }
 ],
 "metadata": {
  "kernelspec": {
   "display_name": "Python 3 (ipykernel)",
   "language": "python",
   "name": "python3"
  },
  "language_info": {
   "codemirror_mode": {
    "name": "ipython",
    "version": 3
   },
   "file_extension": ".py",
   "mimetype": "text/x-python",
   "name": "python",
   "nbconvert_exporter": "python",
   "pygments_lexer": "ipython3",
   "version": "3.7.5"
  }
 },
 "nbformat": 4,
 "nbformat_minor": 5
}
